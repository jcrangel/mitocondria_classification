{
 "cells": [
  {
   "cell_type": "markdown",
   "metadata": {
    "ExecuteTime": {
     "end_time": "2019-02-21T07:31:10.795136Z",
     "start_time": "2019-02-21T07:31:10.786993Z"
    },
    "heading_collapsed": true
   },
   "source": [
    "## Init"
   ]
  },
  {
   "cell_type": "code",
   "execution_count": 1,
   "metadata": {
    "ExecuteTime": {
     "end_time": "2019-02-21T07:48:44.072303Z",
     "start_time": "2019-02-21T07:48:42.807615Z"
    },
    "hidden": true
   },
   "outputs": [
    {
     "name": "stderr",
     "output_type": "stream",
     "text": [
      "Using TensorFlow backend.\n"
     ]
    },
    {
     "name": "stdout",
     "output_type": "stream",
     "text": [
      "Couldn't import dot_parser, loading of dot files will not be possible.\n"
     ]
    }
   ],
   "source": [
    "import matplotlib\n",
    "# matplotlib.use(\"Agg\")\n",
    "\n",
    "# import the necessary packages\n",
    "from keras.preprocessing.image import ImageDataGenerator\n",
    "import mymodels\n",
    "from keras.callbacks import ModelCheckpoint\n",
    "from sklearn.metrics import classification_report, confusion_matrix\n",
    "\n",
    "from keras.callbacks import TensorBoard\n",
    "from keras.optimizers import SGD\n",
    "from keras.optimizers import Adam\n",
    "from collections import Counter\n",
    "from utils.conf_matrix import plot_confusion_matrix as cm\n",
    "import operator\n",
    "import matplotlib.pyplot as plt\n",
    "import numpy as np\n",
    "import datetime\n",
    "import argparse\n",
    "import time \n",
    "import os\n"
   ]
  },
  {
   "cell_type": "code",
   "execution_count": 2,
   "metadata": {
    "ExecuteTime": {
     "end_time": "2019-02-21T07:48:46.526145Z",
     "start_time": "2019-02-21T07:48:46.506000Z"
    },
    "hidden": true
   },
   "outputs": [],
   "source": [
    "def init_model(model_file):\n",
    "    print(\"[INFO] compiling model...\")\n",
    "    counter = Counter(valid_generator.classes)                          \n",
    "\n",
    "    finalAct = 'softmax'\n",
    "    #weights = 'pretrained_models/cells5_adam_noaug.h5'\n",
    "    model = MODEL.build(\n",
    "        width=IMAGE_DIMS[1], height=IMAGE_DIMS[0],\n",
    "        depth=IMAGE_DIMS[2], classes=len(counter),\n",
    "        finalAct=finalAct)\n",
    "\n",
    "\n",
    "    model.load_weights(model_file)\n",
    "\n",
    "    INIT_LR = 1e-4   #((1e-3 - 1e-4) / 2) + 1e-3\n",
    "    DECAY = 1e-6\n",
    "    opt = Adam(lr=INIT_LR, beta_1=0.9, beta_2=0.999, decay=DECAY, amsgrad=False)\n",
    "    # compile the model\n",
    "    model.compile(opt,loss=\"categorical_crossentropy\",metrics=[\"accuracy\"])\n",
    "    \n",
    "    return model\n"
   ]
  },
  {
   "cell_type": "code",
   "execution_count": 3,
   "metadata": {
    "ExecuteTime": {
     "end_time": "2019-02-21T07:48:51.213330Z",
     "start_time": "2019-02-21T07:48:51.189508Z"
    },
    "hidden": true
   },
   "outputs": [],
   "source": [
    "def get_conf_matrix(model_file, steps=1):\n",
    "    model = init_model(model_file)\n",
    "    print('[INFO] predicting generator')\n",
    "    Y_pred = model.predict_generator(valid_generator,steps=steps)\n",
    "    y_pred = np.argmax(Y_pred, axis=1)\n",
    "    sorted_x = sorted(valid_generator.class_indices.iteritems(), key=operator.itemgetter(1))\n",
    "    class_labels = []\n",
    "    for (label,key) in sorted_x:\n",
    "        class_labels.append(label) \n",
    "    c = confusion_matrix(valid_generator.classes, y_pred)\n",
    "    plt.figure()\n",
    "    cm(c, classes=class_labels,title='Confusion matrix')\n",
    "    plt.show()\n",
    "    print('[INFO] evaluating generator')\n",
    "    score = model.evaluate_generator(valid_generator,steps=steps)\n",
    "    print('Accuracy : ' + str(score[1]) + 'Loss : ' + str(score[0]))\n",
    "    del model"
   ]
  },
  {
   "cell_type": "markdown",
   "metadata": {},
   "source": [
    "## Column : Classification"
   ]
  },
  {
   "cell_type": "code",
   "execution_count": 17,
   "metadata": {
    "ExecuteTime": {
     "end_time": "2019-02-21T07:30:00.706568Z",
     "start_time": "2019-02-21T07:29:24.006686Z"
    }
   },
   "outputs": [
    {
     "name": "stdout",
     "output_type": "stream",
     "text": [
      "Found 528 images belonging to 8 classes.\n",
      "[INFO] compiling model...\n",
      "[INFO] predicting generator\n",
      "Confusion matrix, without normalization\n",
      "[[ 15   4   0   3   0   0   0   1]\n",
      " [  2 113   7   1  17   7   2  17]\n",
      " [  0   4  19   0   6   0   0   1]\n",
      " [  1   1   0  44   0   0   0   0]\n",
      " [  1   9   4   0   7   4   2   3]\n",
      " [  0   4   0   0   1  32   1   1]\n",
      " [  0   3   0   0   1   0   0   0]\n",
      " [  1  27   0   0   9   6   0 147]]\n"
     ]
    },
    {
     "data": {
      "image/png": "[encoded data removed]",
      "text/plain": [
       "<Figure size 432x288 with 2 Axes>"
      ]
     },
     "metadata": {
      "needs_background": "light"
     },
     "output_type": "display_data"
    },
    {
     "name": "stdout",
     "output_type": "stream",
     "text": [
      "[INFO] evaluating generator\n",
      "Accuracy : 0.7140151262283325Loss : 1.4459011554718018\n"
     ]
    }
   ],
   "source": [
    "\n",
    "BASE_PATH_IMG = 'cell_image/aug_images2'\n",
    "column = 'Classification'\n",
    "TRAIN_DIR = os.path.sep.join([BASE_PATH_IMG,column,'train'])\n",
    "VAL_DIR = os.path.sep.join([BASE_PATH_IMG,column,'validation'])\n",
    "num_images = sum([len(files) for r, d, files in os.walk(VAL_DIR)])\n",
    "\n",
    "BS = num_images # int(num_images / steps ) \n",
    "\n",
    "IMAGE_DIMS = (128, 128, 3)\n",
    "\n",
    "val_datagen=ImageDataGenerator(rescale=1./255.)\n",
    "\n",
    "valid_generator=val_datagen.flow_from_directory(\n",
    "directory=VAL_DIR,\n",
    "batch_size=BS,\n",
    "shuffle=False,  #Very important or predict generator would not coincice with conf matrix\n",
    "class_mode=\"categorical\",\n",
    "target_size=(IMAGE_DIMS[0],IMAGE_DIMS[1]))\n",
    "\n",
    "model_file = os.path.sep.join(['checkpoints',column, 'VGG19_29-0.73_aug2.hdf5']) \n",
    "MODEL =  mymodels.VGG19_frozen.VGG19\n",
    "get_conf_matrix(model_file)"
   ]
  },
  {
   "cell_type": "markdown",
   "metadata": {},
   "source": [
    "## Column : Morphology"
   ]
  },
  {
   "cell_type": "code",
   "execution_count": 20,
   "metadata": {
    "ExecuteTime": {
     "end_time": "2019-02-21T07:38:17.045960Z",
     "start_time": "2019-02-21T07:37:41.689443Z"
    }
   },
   "outputs": [
    {
     "name": "stdout",
     "output_type": "stream",
     "text": [
      "Found 510 images belonging to 5 classes.\n",
      "[INFO] compiling model...\n",
      "[INFO] predicting generator\n",
      "Confusion matrix, without normalization\n",
      "[[ 62   7   0   0   0]\n",
      " [  1  85  21   4   5]\n",
      " [  2  34  61   0   2]\n",
      " [  0   0   0   1   8]\n",
      " [  0   4   0  13 200]]\n"
     ]
    },
    {
     "data": {
      "image/png": "[encoded data removed]",
      "text/plain": [
       "<Figure size 432x288 with 2 Axes>"
      ]
     },
     "metadata": {
      "needs_background": "light"
     },
     "output_type": "display_data"
    },
    {
     "name": "stdout",
     "output_type": "stream",
     "text": [
      "[INFO] evaluating generator\n",
      "Accuracy : 0.8019607663154602Loss : 0.588664710521698\n"
     ]
    }
   ],
   "source": [
    "BASE_PATH_IMG = 'cell_image/aug_images2'\n",
    "column = 'Morphology'\n",
    "TRAIN_DIR = os.path.sep.join([BASE_PATH_IMG,column,'train'])\n",
    "VAL_DIR = os.path.sep.join([BASE_PATH_IMG,column,'validation'])\n",
    "num_images = sum([len(files) for r, d, files in os.walk(VAL_DIR)])\n",
    "\n",
    "BS = num_images # int(num_images / steps ) \n",
    "\n",
    "IMAGE_DIMS = (128, 128, 3)\n",
    "\n",
    "val_datagen=ImageDataGenerator(rescale=1./255.)\n",
    "\n",
    "valid_generator=val_datagen.flow_from_directory(\n",
    "directory=VAL_DIR,\n",
    "batch_size=BS,\n",
    "shuffle=False,  #Very important or predict generator would not coincice with conf matrix\n",
    "class_mode=\"categorical\",\n",
    "target_size=(IMAGE_DIMS[0],IMAGE_DIMS[1]))\n",
    "\n",
    "model_file = os.path.sep.join(['checkpoints',column, 'VGG19MorphologyAug2_11-0.84.hdf5']) \n",
    "MODEL =  mymodels.VGG19_frozen.VGG19\n",
    "get_conf_matrix(model_file)"
   ]
  },
  {
   "cell_type": "markdown",
   "metadata": {
    "ExecuteTime": {
     "end_time": "2019-02-21T07:39:36.109264Z",
     "start_time": "2019-02-21T07:39:36.101497Z"
    }
   },
   "source": [
    "## Column: Lifespan"
   ]
  },
  {
   "cell_type": "code",
   "execution_count": 4,
   "metadata": {
    "ExecuteTime": {
     "end_time": "2019-02-21T07:49:39.101199Z",
     "start_time": "2019-02-21T07:48:59.413102Z"
    }
   },
   "outputs": [
    {
     "name": "stdout",
     "output_type": "stream",
     "text": [
      "Found 561 images belonging to 2 classes.\n",
      "[INFO] compiling model...\n",
      "[INFO] predicting generator\n",
      "Confusion matrix, without normalization\n",
      "[[ 32   4]\n",
      " [ 28 497]]\n"
     ]
    },
    {
     "data": {
      "image/png": "[encoded data removed]",
      "text/plain": [
       "<Figure size 432x288 with 2 Axes>"
      ]
     },
     "metadata": {
      "needs_background": "light"
     },
     "output_type": "display_data"
    },
    {
     "name": "stdout",
     "output_type": "stream",
     "text": [
      "[INFO] evaluating generator\n",
      "Accuracy : 0.9429590106010437Loss : 0.31684330105781555\n"
     ]
    }
   ],
   "source": [
    "BASE_PATH_IMG = 'cell_image/aug_images2'\n",
    "column = 'Lifespan'\n",
    "TRAIN_DIR = os.path.sep.join([BASE_PATH_IMG,column,'train'])\n",
    "VAL_DIR = os.path.sep.join([BASE_PATH_IMG,column,'validation'])\n",
    "num_images = sum([len(files) for r, d, files in os.walk(VAL_DIR)])\n",
    "\n",
    "BS = num_images # int(num_images / steps ) \n",
    "\n",
    "IMAGE_DIMS = (128, 128, 3)\n",
    "\n",
    "val_datagen=ImageDataGenerator(rescale=1./255.)\n",
    "\n",
    "valid_generator=val_datagen.flow_from_directory(\n",
    "directory=VAL_DIR,\n",
    "batch_size=BS,\n",
    "shuffle=False,  #Very important or predict generator would not coincice with conf matrix\n",
    "class_mode=\"categorical\",\n",
    "target_size=(IMAGE_DIMS[0],IMAGE_DIMS[1]))\n",
    "\n",
    "model_file = os.path.sep.join(['checkpoints',column, 'VGG19LifespanAug2_23-0.95.hdf5']) \n",
    "MODEL =  mymodels.VGG19_frozen.VGG19\n",
    "get_conf_matrix(model_file)"
   ]
  },
  {
   "cell_type": "code",
   "execution_count": null,
   "metadata": {},
   "outputs": [],
   "source": []
  }
 ],
 "metadata": {
  "kernelspec": {
   "display_name": "Python 2",
   "language": "python",
   "name": "python2"
  },
  "language_info": {
   "codemirror_mode": {
    "name": "ipython",
    "version": 2
   },
   "file_extension": ".py",
   "mimetype": "text/x-python",
   "name": "python",
   "nbconvert_exporter": "python",
   "pygments_lexer": "ipython2",
   "version": "2.7.5"
  }
 },
 "nbformat": 4,
 "nbformat_minor": 2
}
